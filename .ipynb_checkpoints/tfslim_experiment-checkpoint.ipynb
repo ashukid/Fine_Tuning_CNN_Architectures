{
 "cells": [
  {
   "cell_type": "code",
   "execution_count": 1,
   "metadata": {},
   "outputs": [
    {
     "name": "stderr",
     "output_type": "stream",
     "text": [
      "/usr/local/lib/python3.5/dist-packages/h5py/__init__.py:36: FutureWarning: Conversion of the second argument of issubdtype from `float` to `np.floating` is deprecated. In future, it will be treated as `np.float64 == np.dtype(float).type`.\n",
      "  from ._conv import register_converters as _register_converters\n"
     ]
    }
   ],
   "source": [
    "import tensorflow as tf\n",
    "from tensorflow.contrib import slim\n",
    "import os"
   ]
  },
  {
   "cell_type": "code",
   "execution_count": 2,
   "metadata": {},
   "outputs": [],
   "source": [
    "import os\n",
    "os.environ[\"CUDA_VISIBLE_DEVICES\"]=\"0\"\n",
    "os.environ[\"CUDA_DEVICE_ORDER\"]=\"PCI_BUS_ID\"\n",
    "gpu_options = tf.GPUOptions(per_process_gpu_memory_fraction=0.50)"
   ]
  },
  {
   "cell_type": "code",
   "execution_count": 10,
   "metadata": {},
   "outputs": [],
   "source": [
    "DATASET_DIR = \"./data/flowers\"\n",
    "CHECKPOINT_PATH = \"./inception_v3.ckpt\"\n",
    "TRAIN_DIR=\"./models/inception_v3\""
   ]
  },
  {
   "cell_type": "code",
   "execution_count": 6,
   "metadata": {},
   "outputs": [],
   "source": [
    "from datasets import flowers\n",
    "dataset = flowers.get_split('validation', DATASET_DIR)"
   ]
  },
  {
   "cell_type": "code",
   "execution_count": 7,
   "metadata": {},
   "outputs": [],
   "source": [
    "provider = slim.dataset_data_provider.DatasetDataProvider(dataset)\n",
    "[image, label] = provider.get(['image', 'label'])"
   ]
  },
  {
   "cell_type": "code",
   "execution_count": 8,
   "metadata": {},
   "outputs": [
    {
     "name": "stdout",
     "output_type": "stream",
     "text": [
      "/usr/local/lib/python3.5/dist-packages/h5py/__init__.py:36: FutureWarning: Conversion of the second argument of issubdtype from `float` to `np.floating` is deprecated. In future, it will be treated as `np.float64 == np.dtype(float).type`.\n",
      "  from ._conv import register_converters as _register_converters\n",
      "WARNING:tensorflow:From train_image_classifier.py:398: create_global_step (from tensorflow.contrib.framework.python.ops.variables) is deprecated and will be removed in a future version.\n",
      "Instructions for updating:\n",
      "Please switch to tf.train.create_global_step\n",
      "WARNING:tensorflow:From train_image_classifier.py:464: softmax_cross_entropy (from tensorflow.contrib.losses.python.losses.loss_ops) is deprecated and will be removed after 2016-12-30.\n",
      "Instructions for updating:\n",
      "Use tf.losses.softmax_cross_entropy instead. Note that the order of the logits and labels arguments has been changed.\n",
      "WARNING:tensorflow:From /usr/local/lib/python3.5/dist-packages/tensorflow/contrib/losses/python/losses/loss_ops.py:397: softmax_cross_entropy_with_logits (from tensorflow.python.ops.nn_ops) is deprecated and will be removed in a future version.\n",
      "Instructions for updating:\n",
      "\n",
      "Future major versions of TensorFlow will allow gradients to flow\n",
      "into the labels input on backprop by default.\n",
      "\n",
      "See @{tf.nn.softmax_cross_entropy_with_logits_v2}.\n",
      "\n",
      "WARNING:tensorflow:From /usr/local/lib/python3.5/dist-packages/tensorflow/contrib/losses/python/losses/loss_ops.py:398: compute_weighted_loss (from tensorflow.contrib.losses.python.losses.loss_ops) is deprecated and will be removed after 2016-12-30.\n",
      "Instructions for updating:\n",
      "Use tf.losses.compute_weighted_loss instead.\n",
      "WARNING:tensorflow:From /usr/local/lib/python3.5/dist-packages/tensorflow/contrib/losses/python/losses/loss_ops.py:146: add_arg_scope.<locals>.func_with_args (from tensorflow.contrib.losses.python.losses.loss_ops) is deprecated and will be removed after 2016-12-30.\n",
      "Instructions for updating:\n",
      "Use tf.losses.add_loss instead.\n",
      "INFO:tensorflow:Ignoring --checkpoint_path because a checkpoint already exists in ./flowers-models/inception_v3\n",
      "WARNING:tensorflow:From /usr/local/lib/python3.5/dist-packages/tensorflow/contrib/slim/python/slim/learning.py:736: Supervisor.__init__ (from tensorflow.python.training.supervisor) is deprecated and will be removed in a future version.\n",
      "Instructions for updating:\n",
      "Please switch to tf.train.MonitoredTrainingSession\n",
      "2018-05-25 13:32:53.477766: I tensorflow/core/platform/cpu_feature_guard.cc:140] Your CPU supports instructions that this TensorFlow binary was not compiled to use: SSE4.1 SSE4.2 AVX AVX2 AVX512F FMA\n",
      "2018-05-25 13:32:53.794579: I tensorflow/core/common_runtime/gpu/gpu_device.cc:1356] Found device 0 with properties: \n",
      "name: GeForce GTX 1080 Ti major: 6 minor: 1 memoryClockRate(GHz): 1.683\n",
      "pciBusID: 0000:17:00.0\n",
      "totalMemory: 10.91GiB freeMemory: 10.75GiB\n",
      "2018-05-25 13:32:53.794646: I tensorflow/core/common_runtime/gpu/gpu_device.cc:1435] Adding visible gpu devices: 0\n",
      "2018-05-25 13:32:54.385619: I tensorflow/core/common_runtime/gpu/gpu_device.cc:923] Device interconnect StreamExecutor with strength 1 edge matrix:\n",
      "2018-05-25 13:32:54.385693: I tensorflow/core/common_runtime/gpu/gpu_device.cc:929]      0 \n",
      "2018-05-25 13:32:54.385712: I tensorflow/core/common_runtime/gpu/gpu_device.cc:942] 0:   N \n",
      "2018-05-25 13:32:54.386146: I tensorflow/core/common_runtime/gpu/gpu_device.cc:1053] Created TensorFlow device (/job:localhost/replica:0/task:0/device:GPU:0 with 10405 MB memory) -> physical GPU (device: 0, name: GeForce GTX 1080 Ti, pci bus id: 0000:17:00.0, compute capability: 6.1)\n",
      "INFO:tensorflow:Restoring parameters from ./flowers-models/inception_v3/model.ckpt-20974\n",
      "INFO:tensorflow:Running local_init_op.\n",
      "INFO:tensorflow:Done running local_init_op.\n",
      "INFO:tensorflow:Starting Session.\n",
      "INFO:tensorflow:Saving checkpoint to path ./flowers-models/inception_v3/model.ckpt\n",
      "INFO:tensorflow:Starting Queues.\n",
      "INFO:tensorflow:global_step/sec: 0\n",
      "INFO:tensorflow:global step 20980: loss = 0.4906 (0.107 sec/step)\n",
      "INFO:tensorflow:global step 20990: loss = 0.4472 (0.108 sec/step)\n",
      "INFO:tensorflow:Recording summary at step 20995.\n",
      "INFO:tensorflow:global step 21000: loss = 0.4379 (0.099 sec/step)\n",
      "INFO:tensorflow:global step 21010: loss = 0.7076 (0.098 sec/step)\n",
      "INFO:tensorflow:global step 21020: loss = 0.6725 (0.104 sec/step)\n",
      "INFO:tensorflow:global step 21030: loss = 0.5756 (0.101 sec/step)\n",
      "INFO:tensorflow:global step 21040: loss = 0.8194 (0.105 sec/step)\n",
      "INFO:tensorflow:global step 21050: loss = 0.5226 (0.098 sec/step)\n",
      "INFO:tensorflow:global step 21060: loss = 0.9224 (0.105 sec/step)\n",
      "INFO:tensorflow:global step 21070: loss = 0.8357 (0.101 sec/step)\n",
      "INFO:tensorflow:global step 21080: loss = 0.5056 (0.107 sec/step)\n",
      "INFO:tensorflow:global step 21090: loss = 0.6583 (0.099 sec/step)\n",
      "INFO:tensorflow:global step 21100: loss = 0.4724 (0.101 sec/step)\n",
      "INFO:tensorflow:global step 21110: loss = 0.6406 (0.101 sec/step)\n",
      "INFO:tensorflow:global step 21120: loss = 0.6447 (0.099 sec/step)\n",
      "INFO:tensorflow:global step 21130: loss = 0.6252 (0.097 sec/step)\n",
      "INFO:tensorflow:global step 21140: loss = 0.9250 (0.103 sec/step)\n",
      "INFO:tensorflow:global step 21150: loss = 0.7146 (0.102 sec/step)\n",
      "INFO:tensorflow:global step 21160: loss = 0.6580 (0.094 sec/step)\n",
      "INFO:tensorflow:global step 21170: loss = 0.4013 (0.107 sec/step)\n",
      "INFO:tensorflow:global step 21180: loss = 0.3963 (0.099 sec/step)\n",
      "INFO:tensorflow:global step 21190: loss = 1.1018 (0.102 sec/step)\n",
      "INFO:tensorflow:global step 21200: loss = 0.6653 (0.103 sec/step)\n",
      "INFO:tensorflow:global step 21210: loss = 0.8095 (0.106 sec/step)\n",
      "INFO:tensorflow:global step 21220: loss = 0.5779 (0.095 sec/step)\n",
      "INFO:tensorflow:global step 21230: loss = 0.4678 (0.098 sec/step)\n",
      "INFO:tensorflow:global step 21240: loss = 0.6420 (0.106 sec/step)\n",
      "INFO:tensorflow:global step 21250: loss = 0.7449 (0.102 sec/step)\n",
      "INFO:tensorflow:global step 21260: loss = 0.5323 (0.111 sec/step)\n",
      "INFO:tensorflow:global step 21270: loss = 0.5932 (0.102 sec/step)\n",
      "INFO:tensorflow:global step 21280: loss = 0.5686 (0.104 sec/step)\n",
      "INFO:tensorflow:global step 21290: loss = 0.5859 (0.104 sec/step)\n",
      "INFO:tensorflow:global step 21300: loss = 0.7552 (0.105 sec/step)\n",
      "INFO:tensorflow:global step 21310: loss = 0.6217 (0.106 sec/step)\n",
      "INFO:tensorflow:global step 21320: loss = 0.6563 (0.099 sec/step)\n",
      "INFO:tensorflow:global step 21330: loss = 0.4149 (0.102 sec/step)\n",
      "INFO:tensorflow:global step 21340: loss = 0.4593 (0.100 sec/step)\n",
      "INFO:tensorflow:global step 21350: loss = 0.5036 (0.099 sec/step)\n",
      "INFO:tensorflow:global step 21360: loss = 0.4718 (0.106 sec/step)\n",
      "INFO:tensorflow:global step 21370: loss = 0.6544 (0.105 sec/step)\n",
      "INFO:tensorflow:global step 21380: loss = 0.8340 (0.107 sec/step)\n",
      "INFO:tensorflow:global step 21390: loss = 0.7202 (0.100 sec/step)\n",
      "INFO:tensorflow:global step 21400: loss = 0.4704 (0.098 sec/step)\n",
      "INFO:tensorflow:global step 21410: loss = 0.5276 (0.106 sec/step)\n",
      "INFO:tensorflow:global step 21420: loss = 0.5775 (0.100 sec/step)\n",
      "INFO:tensorflow:global step 21430: loss = 0.6246 (0.104 sec/step)\n",
      "INFO:tensorflow:global step 21440: loss = 0.7307 (0.101 sec/step)\n",
      "INFO:tensorflow:global step 21450: loss = 0.5038 (0.100 sec/step)\n",
      "INFO:tensorflow:global step 21460: loss = 0.8172 (0.103 sec/step)\n",
      "INFO:tensorflow:global step 21470: loss = 0.4209 (0.103 sec/step)\n",
      "INFO:tensorflow:global step 21480: loss = 0.5567 (0.103 sec/step)\n",
      "INFO:tensorflow:global step 21490: loss = 0.4043 (0.101 sec/step)\n",
      "INFO:tensorflow:global step 21500: loss = 0.4675 (0.102 sec/step)\n",
      "INFO:tensorflow:global step 21510: loss = 0.5506 (0.100 sec/step)\n",
      "INFO:tensorflow:global step 21520: loss = 0.9088 (0.100 sec/step)\n",
      "INFO:tensorflow:global step 21530: loss = 0.9227 (0.103 sec/step)\n",
      "INFO:tensorflow:global step 21540: loss = 0.5623 (0.102 sec/step)\n",
      "INFO:tensorflow:global step 21550: loss = 0.4960 (0.106 sec/step)\n",
      "INFO:tensorflow:global step 21560: loss = 0.8860 (0.101 sec/step)\n",
      "^C\n"
     ]
    }
   ],
   "source": [
    "!python train_image_classifier.py \\\n",
    "    --train_dir=$TRAIN_DIR \\\n",
    "    --dataset_dir=$DATASET_DIR \\\n",
    "    --dataset_name=flowers \\\n",
    "    --dataset_split_name=train \\\n",
    "    --model_name=inception_v3 \\\n",
    "    --checkpoint_path=$CHECKPOINT_PATH \\\n",
    "    --checkpoint_exclude_scopes=InceptionV3/Logits,InceptionV3/AuxLogits \\\n",
    "    --trainable_scopes=InceptionV3/Logits,InceptionV3/AuxLogits"
   ]
  },
  {
   "cell_type": "code",
   "execution_count": 12,
   "metadata": {},
   "outputs": [
    {
     "name": "stdout",
     "output_type": "stream",
     "text": [
      "/usr/local/lib/python3.5/dist-packages/h5py/__init__.py:36: FutureWarning: Conversion of the second argument of issubdtype from `float` to `np.floating` is deprecated. In future, it will be treated as `np.float64 == np.dtype(float).type`.\n",
      "  from ._conv import register_converters as _register_converters\n",
      "WARNING:tensorflow:From eval_image_classifier.py:91: get_or_create_global_step (from tensorflow.contrib.framework.python.ops.variables) is deprecated and will be removed in a future version.\n",
      "Instructions for updating:\n",
      "Please switch to tf.train.get_or_create_global_step\n",
      "INFO:tensorflow:Scale of 0 disables regularizer.\n",
      "WARNING:tensorflow:From eval_image_classifier.py:155: streaming_accuracy (from tensorflow.contrib.metrics.python.ops.metric_ops) is deprecated and will be removed in a future version.\n",
      "Instructions for updating:\n",
      "Please switch to tf.metrics.accuracy. Note that the order of the labels and predictions arguments has been switched.\n",
      "WARNING:tensorflow:From eval_image_classifier.py:157: streaming_recall_at_k (from tensorflow.contrib.metrics.python.ops.metric_ops) is deprecated and will be removed after 2016-11-08.\n",
      "Instructions for updating:\n",
      "Please use `streaming_sparse_recall_at_k`, and reshape labels from [batch_size] to [batch_size, 1].\n",
      "WARNING:tensorflow:From /usr/local/lib/python3.5/dist-packages/tensorflow/contrib/metrics/python/ops/metric_ops.py:2133: streaming_mean (from tensorflow.contrib.metrics.python.ops.metric_ops) is deprecated and will be removed in a future version.\n",
      "Instructions for updating:\n",
      "Please switch to tf.metrics.mean\n",
      "INFO:tensorflow:Evaluating ./flowers-models/inception_v3/model.ckpt-20975\n",
      "INFO:tensorflow:Starting evaluation at 2018-05-25-13:39:14\n",
      "INFO:tensorflow:Graph was finalized.\n",
      "2018-05-25 13:39:15.677319: I tensorflow/core/platform/cpu_feature_guard.cc:140] Your CPU supports instructions that this TensorFlow binary was not compiled to use: SSE4.1 SSE4.2 AVX AVX2 AVX512F FMA\n",
      "2018-05-25 13:39:15.991230: I tensorflow/core/common_runtime/gpu/gpu_device.cc:1356] Found device 0 with properties: \n",
      "name: GeForce GTX 1080 Ti major: 6 minor: 1 memoryClockRate(GHz): 1.683\n",
      "pciBusID: 0000:17:00.0\n",
      "totalMemory: 10.91GiB freeMemory: 10.75GiB\n",
      "2018-05-25 13:39:15.991286: I tensorflow/core/common_runtime/gpu/gpu_device.cc:1435] Adding visible gpu devices: 0\n",
      "2018-05-25 13:39:16.512889: I tensorflow/core/common_runtime/gpu/gpu_device.cc:923] Device interconnect StreamExecutor with strength 1 edge matrix:\n",
      "2018-05-25 13:39:16.512949: I tensorflow/core/common_runtime/gpu/gpu_device.cc:929]      0 \n",
      "2018-05-25 13:39:16.512967: I tensorflow/core/common_runtime/gpu/gpu_device.cc:942] 0:   N \n",
      "2018-05-25 13:39:16.513367: I tensorflow/core/common_runtime/gpu/gpu_device.cc:1053] Created TensorFlow device (/job:localhost/replica:0/task:0/device:GPU:0 with 10405 MB memory) -> physical GPU (device: 0, name: GeForce GTX 1080 Ti, pci bus id: 0000:17:00.0, compute capability: 6.1)\n",
      "INFO:tensorflow:Restoring parameters from ./flowers-models/inception_v3/model.ckpt-20975\n",
      "INFO:tensorflow:Running local_init_op.\n",
      "INFO:tensorflow:Done running local_init_op.\n",
      "2018-05-25 13:39:21.317908: W tensorflow/core/framework/allocator.cc:101] Allocation of 107281200 exceeds 10% of system memory.\n",
      "INFO:tensorflow:Evaluation [1/4]\n",
      "2018-05-25 13:39:23.999702: W tensorflow/core/framework/allocator.cc:101] Allocation of 107281200 exceeds 10% of system memory.\n",
      "INFO:tensorflow:Evaluation [2/4]\n",
      "2018-05-25 13:39:27.407081: W tensorflow/core/framework/allocator.cc:101] Allocation of 107281200 exceeds 10% of system memory.\n",
      "INFO:tensorflow:Evaluation [3/4]\n",
      "2018-05-25 13:39:30.806549: W tensorflow/core/framework/allocator.cc:101] Allocation of 107281200 exceeds 10% of system memory.\n",
      "INFO:tensorflow:Evaluation [4/4]\n",
      "eval/Accuracy[0.915]\n",
      "eval/Recall_5[1]\n",
      "INFO:tensorflow:Finished evaluation at 2018-05-25-13:39:39\n"
     ]
    }
   ],
   "source": [
    "!python eval_image_classifier.py \\\n",
    "    --alsologtostderr \\\n",
    "    --checkpoint_path=$TRAIN_DIR \\\n",
    "    --dataset_dir=$DATASET_DIR \\\n",
    "    --dataset_name=flowers \\\n",
    "    --dataset_split_name=validation \\\n",
    "    --model_name=inception_v3"
   ]
  },
  {
   "cell_type": "code",
   "execution_count": null,
   "metadata": {},
   "outputs": [],
   "source": []
  },
  {
   "cell_type": "code",
   "execution_count": null,
   "metadata": {},
   "outputs": [],
   "source": []
  }
 ],
 "metadata": {
  "kernelspec": {
   "display_name": "Python 3",
   "language": "python",
   "name": "python3"
  },
  "language_info": {
   "codemirror_mode": {
    "name": "ipython",
    "version": 3
   },
   "file_extension": ".py",
   "mimetype": "text/x-python",
   "name": "python",
   "nbconvert_exporter": "python",
   "pygments_lexer": "ipython3",
   "version": "3.5.2"
  }
 },
 "nbformat": 4,
 "nbformat_minor": 2
}
