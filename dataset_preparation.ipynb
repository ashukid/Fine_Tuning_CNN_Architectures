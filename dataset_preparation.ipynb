{
 "cells": [
  {
   "cell_type": "code",
   "execution_count": 2,
   "metadata": {},
   "outputs": [
    {
     "data": {
      "text/html": [
       "<style>.container { width:100% !important; }</style>"
      ],
      "text/plain": [
       "<IPython.core.display.HTML object>"
      ]
     },
     "metadata": {},
     "output_type": "display_data"
    },
    {
     "name": "stderr",
     "output_type": "stream",
     "text": [
      "/usr/local/lib/python3.5/dist-packages/h5py/__init__.py:36: FutureWarning: Conversion of the second argument of issubdtype from `float` to `np.floating` is deprecated. In future, it will be treated as `np.float64 == np.dtype(float).type`.\n",
      "  from ._conv import register_converters as _register_converters\n"
     ]
    }
   ],
   "source": [
    "# stretching the cells\n",
    "from IPython.core.display import display, HTML\n",
    "display(HTML(\"<style>.container { width:100% !important; }</style>\"))\n",
    "\n",
    "# ignoring the warnings\n",
    "import warnings\n",
    "warnings.filterwarnings('ignore', '.*do not.*',)\n",
    "\n",
    "# cuda settings\n",
    "import os\n",
    "import tensorflow as tf\n",
    "os.environ[\"CUDA_VISIBLE_DEVICES\"]=\"0\"\n",
    "os.environ[\"CUDA_DEVICE_ORDER\"]=\"PCI_BUS_ID\"\n",
    "gpu_options = tf.GPUOptions(per_process_gpu_memory_fraction=0.50)"
   ]
  },
  {
   "cell_type": "code",
   "execution_count": null,
   "metadata": {},
   "outputs": [],
   "source": [
    "# take all the images and labels addresses\n",
    "# make a function to convert the images into arrays\n",
    "# create features from the arrays\n",
    "# create tfrecords from the features"
   ]
  },
  {
   "cell_type": "markdown",
   "metadata": {},
   "source": [
    "### Listing the images and labels"
   ]
  },
  {
   "cell_type": "code",
   "execution_count": null,
   "metadata": {},
   "outputs": [],
   "source": [
    "import glob\n",
    "train_addrs = glob.glob(\"coco-animals/train/*/*.jpg\")\n",
    "lbl_map = {\"sheep\":0,\"cat\":1,\"dog\":2,\"horse\":3,\"bird\":4,\"giraffe\":5,\"zebra\":6,\"bear\":7}\n",
    "train_labels = []\n",
    "for addrs in train_addrs:\n",
    "    addrs = addrs.split(\"/\")\n",
    "    train_labels.append(lbl_map[addrs[2]])\n",
    "assert len(train_addrs)==len(train_labels)    "
   ]
  },
  {
   "cell_type": "code",
   "execution_count": null,
   "metadata": {},
   "outputs": [],
   "source": [
    "import glob\n",
    "valid_addrs = glob.glob(\"coco-animals/val/*/*.jpg\")\n",
    "lbl_map = {\"sheep\":0,\"cat\":1,\"dog\":2,\"horse\":3,\"bird\":4,\"giraffe\":5,\"zebra\":6,\"bear\":7}\n",
    "valid_labels = []\n",
    "for addrs in valid_addrs:\n",
    "    addrs = addrs.split(\"/\")\n",
    "    valid_labels.append(lbl_map[addrs[2]])\n",
    "assert len(valid_addrs)==len(valid_labels)  "
   ]
  },
  {
   "cell_type": "code",
   "execution_count": null,
   "metadata": {},
   "outputs": [],
   "source": [
    "count={}\n",
    "for i in train_labels:\n",
    "    x = count.setdefault(i,0)\n",
    "    count[i] = x+1"
   ]
  },
  {
   "cell_type": "code",
   "execution_count": null,
   "metadata": {},
   "outputs": [],
   "source": [
    "count"
   ]
  },
  {
   "cell_type": "markdown",
   "metadata": {},
   "source": [
    "### Function to convert the images to arrays"
   ]
  },
  {
   "cell_type": "code",
   "execution_count": null,
   "metadata": {},
   "outputs": [],
   "source": [
    "import cv2 \n",
    "import numpy as np\n",
    "def load_image(addr):\n",
    "    # read an image and resize to (224, 224)\n",
    "    # cv2 load images as BGR, convert it to RGB\n",
    "    img = cv2.imread(addr)\n",
    "    img = cv2.resize(img, (224, 224), interpolation=cv2.INTER_CUBIC)\n",
    "    img = cv2.cvtColor(img, cv2.COLOR_BGR2RGB)\n",
    "    img = img.astype(np.float32)\n",
    "    return img"
   ]
  },
  {
   "cell_type": "code",
   "execution_count": null,
   "metadata": {},
   "outputs": [],
   "source": [
    "def _int64_feature(value):\n",
    "    return tf.train.Feature(int64_list=tf.train.Int64List(value=[value]))\n",
    "def _bytes_feature(value):\n",
    "    return tf.train.Feature(bytes_list=tf.train.BytesList(value=[value]))"
   ]
  },
  {
   "cell_type": "markdown",
   "metadata": {},
   "source": [
    "### Writing to tfrecords"
   ]
  },
  {
   "cell_type": "code",
   "execution_count": null,
   "metadata": {},
   "outputs": [],
   "source": [
    "train_filename = 'train.tfrecords'\n",
    "writer = tf.python_io.TFRecordWriter(train_filename)\n",
    "\n",
    "for img_addrs,label in zip(train_addrs,train_labels):\n",
    "    img = load_image(img_addrs)\n",
    "    \n",
    "    feature = {\"image\":_bytes_feature(tf.compat.as_bytes(img.tostring())),\"label\":_int64_feature(label)}\n",
    "    example = tf.train.Example(features=tf.train.Features(feature=feature))\n",
    "    writer.write(example.SerializeToString())\n",
    "writer.close()"
   ]
  },
  {
   "cell_type": "code",
   "execution_count": null,
   "metadata": {},
   "outputs": [],
   "source": [
    "train_filename = 'valid.tfrecords'\n",
    "writer = tf.python_io.TFRecordWriter(train_filename)\n",
    "\n",
    "for img_addrs,label in zip(valid_addrs,valid_labels):\n",
    "    img = load_image(img_addrs)\n",
    "    \n",
    "    feature = {\"image\":_bytes_feature(tf.compat.as_bytes(img.tostring())),\"label\":_int64_feature(label)}\n",
    "    example = tf.train.Example(features=tf.train.Features(feature=feature))\n",
    "    writer.write(example.SerializeToString())\n",
    "writer.close()"
   ]
  },
  {
   "cell_type": "markdown",
   "metadata": {},
   "source": [
    "### Reading the tfrecords"
   ]
  },
  {
   "cell_type": "code",
   "execution_count": 3,
   "metadata": {},
   "outputs": [
    {
     "name": "stdout",
     "output_type": "stream",
     "text": [
      "(20, 224, 224, 3) (20,)\n"
     ]
    }
   ],
   "source": [
    "import numpy as np\n",
    "import matplotlib.pyplot as plt\n",
    "%matplotlib inline\n",
    "data_path = \"train.tfrecords\"\n",
    "with tf.Session(config=tf.ConfigProto(gpu_options=gpu_options)) as sess:\n",
    "    \n",
    "    feature = {'image':tf.FixedLenFeature([],tf.string), 'label':tf.FixedLenFeature([],tf.int64)}\n",
    "    filename_queue = tf.train.string_input_producer([data_path],num_epochs=1)\n",
    "    \n",
    "    reader = tf.TFRecordReader()\n",
    "    _,serialzed_example = reader.read(filename_queue)\n",
    "    \n",
    "    features = tf.parse_single_example(serialzed_example,features=feature)\n",
    "    \n",
    "    image = tf.decode_raw(features[\"image\"],tf.float32)\n",
    "    label = tf.cast(features[\"label\"],tf.int32)\n",
    "    \n",
    "    image = tf.reshape(image,[224,224,3])\n",
    "    \n",
    "    images,labels = tf.train.shuffle_batch([image,label],batch_size=20,capacity=30,num_threads=1,min_after_dequeue=10)\n",
    "    \n",
    "    init_op = tf.group(tf.global_variables_initializer(),tf.local_variables_initializer())\n",
    "    sess.run(init_op)\n",
    "    \n",
    "    coord = tf.train.Coordinator()\n",
    "    threads = tf.train.start_queue_runners(coord=coord)\n",
    "    \n",
    "    for i in range(1):\n",
    "        img,lbl = sess.run([images,labels])\n",
    "        print(img.shape,lbl.shape)\n",
    "#         img = img.astype(np.uint8)\n",
    "        \n",
    "#         for j in range(10):\n",
    "#             plt.subplot(4,3,j+1)\n",
    "#             plt.imshow(img[j,...])\n",
    "#             plt.title(lbl[j])\n",
    "#         plt.show()\n",
    "        \n",
    "    coord.request_stop()\n",
    "\n",
    "    coord.join(threads)\n",
    "    sess.close()"
   ]
  },
  {
   "cell_type": "code",
   "execution_count": 1,
   "metadata": {},
   "outputs": [],
   "source": [
    "class Data:\n",
    "    \n",
    "    def __init__(self,image_size,num_classes,data_path=\"train.tfrecords\",num_epochs=1,num_channels=3,batch_size=50,capacity=100,num_threads=1):\n",
    "        self.data_path = data_path\n",
    "        self.num_epochs = num_epochs\n",
    "        self.image_size - image_size\n",
    "        self.num_channels = num_channels\n",
    "        self.num_classes = num_classes\n",
    "        self.batch_size = batch_size\n",
    "        self.capacity = capacity\n",
    "        self.num_threads = num_threads\n",
    "    \n",
    "    \n",
    "    def read(self):\n",
    "        feature = {'image':tf.FixedLenFeature([],tf.string), 'label':tf.FixedLenFeature([],tf.int64)}\n",
    "        filename_queue = tf.train.string_input_producer([self.data_path],num_epochs=num_epochs)\n",
    "\n",
    "        reader = tf.TFRecordReader()\n",
    "        _,serialzed_example = reader.read(filename_queue)\n",
    "\n",
    "        features = tf.parse_single_example(serialzed_example,features=feature)\n",
    "\n",
    "        image = tf.decode_raw(features[\"image\"],tf.float32)\n",
    "        label = tf.cast(features[\"label\"],tf.int32)\n",
    "\n",
    "        image = tf.reshape(image,[self.image_size,self.image_size,self.num_channels])\n",
    "        label = tf.one_hot(label,depth=self.num_classes)\n",
    "        images,labels = tf.train.shuffle_batch([image,label],\n",
    "                                               batch_size=self.batch_size,\n",
    "                                               capacity=self.capacity,\n",
    "                                               num_threads=self.num_threads,\n",
    "                                               min_after_dequeue=10)\n",
    "\n",
    "        return (images,labels)"
   ]
  },
  {
   "cell_type": "code",
   "execution_count": null,
   "metadata": {},
   "outputs": [],
   "source": []
  }
 ],
 "metadata": {
  "kernelspec": {
   "display_name": "Python 3",
   "language": "python",
   "name": "python3"
  },
  "language_info": {
   "codemirror_mode": {
    "name": "ipython",
    "version": 3
   },
   "file_extension": ".py",
   "mimetype": "text/x-python",
   "name": "python",
   "nbconvert_exporter": "python",
   "pygments_lexer": "ipython3",
   "version": "3.5.2"
  }
 },
 "nbformat": 4,
 "nbformat_minor": 2
}
